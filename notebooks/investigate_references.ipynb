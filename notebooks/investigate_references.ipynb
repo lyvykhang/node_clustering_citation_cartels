{
 "cells": [
  {
   "cell_type": "code",
   "execution_count": null,
   "metadata": {},
   "outputs": [],
   "source": [
    "import pandas as pd\n",
    "import numpy as np"
   ]
  },
  {
   "cell_type": "code",
   "execution_count": null,
   "metadata": {},
   "outputs": [],
   "source": [
    "df = pd.read_parquet('data/hindawi_retracted.parquet.gzip')"
   ]
  },
  {
   "cell_type": "code",
   "execution_count": null,
   "metadata": {},
   "outputs": [],
   "source": [
    "df_refs = pd.read_parquet('data/hindawi_retracted_refs.parquet.gzip')\n",
    "\n",
    "df_refs.dropna(subset=[\"auid\"], inplace=True)\n",
    "df_refs[\"auid\"] = [[int(auid) for auid in auids if not np.isnan(auid)] for auids in df_refs.auid]\n",
    "\n",
    "cite_counts = df_refs.groupby('ref_eid')['eid'].apply(lambda x: len(list(x))).to_frame(\"n_citations\")\n",
    "df_refs = df_refs.merge(cite_counts, on='ref_eid')\n",
    "\n",
    "df_refs.head()"
   ]
  },
  {
   "cell_type": "markdown",
   "metadata": {},
   "source": [
    "### 1. Looking at most cited articles."
   ]
  },
  {
   "cell_type": "code",
   "execution_count": null,
   "metadata": {},
   "outputs": [],
   "source": [
    "N_CITED = 100\n",
    "\n",
    "most_cited_df = df_refs.set_index('ref_eid').iloc[df_refs.drop_duplicates('ref_eid').n_citations.nlargest(N_CITED).keys()].reset_index().drop(columns=['eid'])\n",
    "most_cited_df.head()"
   ]
  },
  {
   "cell_type": "markdown",
   "metadata": {},
   "source": [
    "#### 1a. Articles with no citations that have been cited many times."
   ]
  },
  {
   "cell_type": "code",
   "execution_count": null,
   "metadata": {},
   "outputs": [],
   "source": [
    "# Note: Some of these actually do have citations, just not visible in the AnI table. Some are also different format, e.g. books, for which the refs would be listed by chapter, hence the field would be empty here.\n",
    "df_no_citations = df_refs[df_refs.citations.isna()].query('n_citations > 1').drop_duplicates('ref_eid').drop(columns=['eid']).sort_values('n_citations', ascending=False)\n",
    "df_no_citations.head()"
   ]
  },
  {
   "cell_type": "code",
   "execution_count": null,
   "metadata": {},
   "outputs": [],
   "source": [
    "# Cited 91 times with no citation data or affiliation on record, suspicious authors (Huang, Sharma).\n",
    "# https://www.informatica.si/index.php/informatica/article/view/3600\n",
    "# Actually a special issue introduction, some papers are by known suspicious authors e.g. one by Sharma.\n",
    "# There are a few more special issue introductions cited multiple times, e.g. 85108533647, 85106903979, \n",
    "print(df_no_citations.query('ref_eid == 85112251416').values)"
   ]
  },
  {
   "cell_type": "code",
   "execution_count": null,
   "metadata": {},
   "outputs": [],
   "source": [
    "# Case report with no citations, cited 27 times, by several retracted papers.\n",
    "print(df_no_citations.query('ref_eid == 29312827').values)"
   ]
  },
  {
   "cell_type": "markdown",
   "metadata": {},
   "source": [
    "### 2. Investigate citations in non-overlapping subject areas."
   ]
  },
  {
   "cell_type": "code",
   "execution_count": null,
   "metadata": {},
   "outputs": [],
   "source": [
    "# Open in variable viewer and sort by `p_citations_same_subj`.\n",
    "# If we assume the assigned labels are (mostly) exhaustive and reasonable, there's a substantial amount of papers that mostly cite unrelated papers.\n",
    "def f(x):\n",
    "    d = {}\n",
    "    d['n_citations_with_data'] = len(x)\n",
    "    d['p_citations_same_subj'] = np.mean(x['subj_overlap'])\n",
    "    return pd.Series(d)\n",
    "\n",
    "df_subj = df_refs.merge(df[[\"eid\", \"subjareas\"]], on='eid')\n",
    "df_subj[\"subj_overlap\"] = df_subj.apply(lambda x: any(i in x['subjareas_y'] for i in x['subjareas_x']), axis=1)\n",
    "\n",
    "df = df.merge(df_subj.groupby('eid').apply(f), on='eid')\n",
    "df.head()"
   ]
  },
  {
   "cell_type": "markdown",
   "metadata": {},
   "source": [
    "### 3. Investigating the simulation cluster. "
   ]
  },
  {
   "cell_type": "code",
   "execution_count": null,
   "metadata": {},
   "outputs": [],
   "source": [
    "df_sim = df.query('cluster_simulation == 1')\n",
    "df_sim.head()"
   ]
  },
  {
   "cell_type": "markdown",
   "metadata": {},
   "source": [
    "#### 3b. Check the top editors."
   ]
  },
  {
   "cell_type": "code",
   "execution_count": null,
   "metadata": {},
   "outputs": [],
   "source": [
    "# Y. Teekaraman is on the editorial board of some Elsevier journals: \n",
    "# https://www.journals.elsevier.com/ecotoxicology-and-environmental-safety/editorial-board/yuvaraja-teekaraman\n",
    "# https://www.journals.elsevier.com/energy-reports/editorial-board/yuvaraja-teekaraman\n",
    "\n",
    "df_sim.groupby('editor').apply(len).nlargest(10)"
   ]
  },
  {
   "cell_type": "markdown",
   "metadata": {},
   "source": [
    "#### 3c. Check the top cited papers by these sim. cluster papers."
   ]
  },
  {
   "cell_type": "code",
   "execution_count": null,
   "metadata": {},
   "outputs": [],
   "source": [
    "df_sim.explode('citations').groupby('citations').apply(len).nlargest(20)"
   ]
  },
  {
   "cell_type": "code",
   "execution_count": null,
   "metadata": {},
   "outputs": [],
   "source": [
    "# Search for shared affiliations among authors citing a particular EID.\n",
    "# Don't see any outliers among the top few most cited.\n",
    "cited_eid = df_sim.explode('citations').query('citations == 85112724790')\n",
    "cited_eid[\"affiliation_organization\"] = [[affil[-1] for affil in affils] for affils in cited_eid[\"affiliation_organization\"]]\n",
    "cited_eid.explode('affiliation_organization').groupby('affiliation_organization').apply(len).sort_values(ascending=False)"
   ]
  }
 ],
 "metadata": {
  "kernelspec": {
   "display_name": "base",
   "language": "python",
   "name": "python3"
  },
  "language_info": {
   "codemirror_mode": {
    "name": "ipython",
    "version": 3
   },
   "file_extension": ".py",
   "mimetype": "text/x-python",
   "name": "python",
   "nbconvert_exporter": "python",
   "pygments_lexer": "ipython3",
   "version": "3.10.8"
  }
 },
 "nbformat": 4,
 "nbformat_minor": 2
}
