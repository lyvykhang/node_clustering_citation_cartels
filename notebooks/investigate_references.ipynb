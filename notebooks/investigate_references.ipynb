{
 "cells": [
  {
   "cell_type": "code",
   "execution_count": null,
   "metadata": {},
   "outputs": [],
   "source": [
    "import pandas as pd\n",
    "import numpy as np"
   ]
  },
  {
   "cell_type": "code",
   "execution_count": null,
   "metadata": {},
   "outputs": [],
   "source": [
    "df = pd.read_parquet('/Users/lyk/gnn_clustering_citation_cartels/data/hindawi_retracted.parquet.gzip')"
   ]
  },
  {
   "cell_type": "code",
   "execution_count": null,
   "metadata": {},
   "outputs": [],
   "source": [
    "df_refs = pd.read_parquet('/Users/lyk/gnn_clustering_citation_cartels/data/hindawi_retracted_refs.parquet.gzip')\n",
    "\n",
    "df_refs.dropna(subset=[\"auid\"], inplace=True)\n",
    "df_refs[\"auid\"] = [[int(auid) for auid in auids if not np.isnan(auid)] for auids in df_refs.auid]\n",
    "\n",
    "cite_counts = df_refs.groupby('ref_eid')['eid'].apply(lambda x: len(list(x))).to_frame(\"n_citations\")\n",
    "df_refs = df_refs.merge(cite_counts, on='ref_eid')\n",
    "\n",
    "df_refs.head()"
   ]
  },
  {
   "cell_type": "markdown",
   "metadata": {},
   "source": [
    "### 1. Top N referenced EIDs by these retracted papers."
   ]
  },
  {
   "cell_type": "code",
   "execution_count": null,
   "metadata": {},
   "outputs": [],
   "source": [
    "N_CITED = 100\n",
    "\n",
    "most_cited_df = df_refs.set_index('ref_eid').iloc[df_refs.drop_duplicates('ref_eid').n_citations.nlargest(N_CITED).keys()].reset_index().drop(columns=['eid'])\n",
    "most_cited_df.head()\n",
    "\n",
    "most_cited_df['title'] = most_cited_df.title.apply(lambda x: x[0])\n",
    "\n",
    "most_cited_df[['ref_eid', 'title', 'Au_unique_IN', 'n_citations']].to_excel('most_referenced_eids_by_retracted.xlsx')\n",
    "most_cited_df.head()"
   ]
  },
  {
   "cell_type": "markdown",
   "metadata": {},
   "source": [
    "### 2. Top N referenced authors by retracted papers, and a list of their papers that were referenced."
   ]
  },
  {
   "cell_type": "code",
   "execution_count": null,
   "metadata": {},
   "outputs": [],
   "source": [
    "# Just mapping author names to IDs.\n",
    "def f(x):\n",
    "    if x['auid'] is None or x['Au_unique_IN'] is None:\n",
    "        return None\n",
    "    else:\n",
    "        return [(i, j) for i, j in zip(x['auid'], x['Au_unique_IN'])]\n",
    "\n",
    "df_refs['authors'] = df_refs.apply(f, axis=1)"
   ]
  },
  {
   "cell_type": "code",
   "execution_count": null,
   "metadata": {},
   "outputs": [],
   "source": [
    "N_AUTHORS = 100\n",
    "\n",
    "most_cited_authors = df_refs.explode('authors').groupby('authors').apply(len).nlargest(N_AUTHORS)\n",
    "most_cited_authors_papers = df_refs.explode('authors').set_index('authors') \\\n",
    "    .loc[most_cited_authors.keys()].groupby('authors')['ref_eid'] \\\n",
    "    .apply(lambda x: list(set(x))).loc[most_cited_authors.keys()]\n",
    "most_cited_authors_df = pd.concat([most_cited_authors, most_cited_authors_papers], axis=1) \\\n",
    "    .rename(columns={0: 'n_cites_received'})\n",
    "\n",
    "most_cited_authors_df.to_excel('most_referenced_authors_and_their_papers.xlsx')\n",
    "most_cited_authors_df.head()"
   ]
  },
  {
   "cell_type": "markdown",
   "metadata": {},
   "source": [
    "### 3. % of references to papers with non-overlapping subject areas (citation stacking signal)."
   ]
  },
  {
   "cell_type": "code",
   "execution_count": null,
   "metadata": {},
   "outputs": [],
   "source": [
    "# Open in variable viewer and sort by `p_citations_overlap_subj`.\n",
    "# If we assume the `subjareas` are (mostly) exhaustive, there's a substantial amount of papers that mostly reference unrelated papers.\n",
    "def f(x):\n",
    "    d = {}\n",
    "    d['n_citations_with_scopus_data'] = len(x)\n",
    "    d['p_citations_overlap_subj'] = np.mean(x['subj_overlap'])\n",
    "    return pd.Series(d)\n",
    "\n",
    "df_subj = df_refs.merge(df[[\"eid\", \"subjareas\"]], on='eid')\n",
    "df_subj[\"subj_overlap\"] = df_subj.apply(lambda x: any(i in x['subjareas_y'] for i in x['subjareas_x']), axis=1)\n",
    "\n",
    "df = df.merge(df_subj.groupby('eid').apply(f), on='eid')\n",
    "df.head()"
   ]
  },
  {
   "cell_type": "markdown",
   "metadata": {},
   "source": [
    "### 4. A list of all special issue introductions referenced by the retracted papers, some of which are suspicious."
   ]
  },
  {
   "cell_type": "code",
   "execution_count": null,
   "metadata": {},
   "outputs": [],
   "source": [
    "special_issues = df_refs[df_refs.title.apply(lambda x: x[0]).str.lower().str.contains('special issue')].drop_duplicates('ref_eid')\n",
    "special_issues = special_issues.sort_values(by='n_citations', ascending=False)\n",
    "special_issues['title'] = special_issues.title.apply(lambda x: x[0])\n",
    "\n",
    "special_issues[['ref_eid', 'title', 'Au_unique_IN', 'n_citations']].to_excel('special_issue_intros_referenced_by_retracted.xlsx')\n",
    "special_issues.head()"
   ]
  },
  {
   "cell_type": "markdown",
   "metadata": {},
   "source": [
    "### 5. Editors within the top 50 most frequently-occuring editors of these retracted papers, who are also on the editorial board of some Elsevier journal. "
   ]
  },
  {
   "cell_type": "code",
   "execution_count": null,
   "metadata": {},
   "outputs": [],
   "source": [
    "# First checking the top 50, then manually searching the names for Elsevier affiliation. \n",
    "df.groupby('editor').apply(len).nlargest(50)"
   ]
  },
  {
   "cell_type": "code",
   "execution_count": null,
   "metadata": {},
   "outputs": [],
   "source": [
    "# The retracted papers edited by the editors in question.\n",
    "els_editors_in_top_50 = [\n",
    "    'Zhihan Lv',\n",
    "    'Yuvaraja Teekaraman',\n",
    "    'Rashid A Saeed',\n",
    "    'Vijay Kumar',\n",
    "    'Xin Ning',\n",
    "    'Zhiguo Qu',\n",
    "    'Danilo Pelusi',\n",
    "    'Gang Chen',\n",
    "]\n",
    "\n",
    "els_editors = df[df.editor.apply(lambda x: True if x in els_editors_in_top_50 else False)]\n",
    "els_editors = els_editors.sort_values('editor')\n",
    "\n",
    "els_editors[['eid', 'title', 'Au_unique_IN', 'editor']].to_excel('retracted_eids_by_els_editors.xlsx')\n",
    "els_editors.head()"
   ]
  },
  {
   "cell_type": "code",
   "execution_count": null,
   "metadata": {},
   "outputs": [],
   "source": [
    "df_refs.groupby('publishername').apply(len).nlargest(20)"
   ]
  },
  {
   "cell_type": "markdown",
   "metadata": {},
   "source": [
    "### 6. Top N referenced EIDs published in an Elsevier journal."
   ]
  },
  {
   "cell_type": "code",
   "execution_count": null,
   "metadata": {},
   "outputs": [],
   "source": [
    "cited_elsevier = df_refs[df_refs.publishername.apply(lambda x: (True if \"Elsevier\" in x else False) if x is not None else False)].drop_duplicates('ref_eid').sort_values('n_citations', ascending=False)\n",
    "cited_elsevier.title = cited_elsevier.title.apply(lambda x: x[0])\n",
    "\n",
    "cited_elsevier[:N_CITED][['ref_eid', 'title', 'auid', 'Au_unique_IN', 'sourcetitle', 'publishername', 'n_citations']].to_excel('most_cited_elsevier_published.xlsx')\n",
    "cited_elsevier.head()"
   ]
  }
 ],
 "metadata": {
  "kernelspec": {
   "display_name": "base",
   "language": "python",
   "name": "python3"
  },
  "language_info": {
   "codemirror_mode": {
    "name": "ipython",
    "version": 3
   },
   "file_extension": ".py",
   "mimetype": "text/x-python",
   "name": "python",
   "nbconvert_exporter": "python",
   "pygments_lexer": "ipython3",
   "version": "3.10.8"
  }
 },
 "nbformat": 4,
 "nbformat_minor": 2
}
